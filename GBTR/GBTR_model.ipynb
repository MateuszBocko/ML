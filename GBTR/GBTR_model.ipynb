{
 "cells": [
  {
   "cell_type": "code",
   "execution_count": 1,
   "metadata": {},
   "outputs": [],
   "source": [
    "# import libraries\n",
    "import pandas as pd\n",
    "import numpy as np\n",
    "import pyspark.sql.functions as F\n",
    "\n",
    "from sklearn.preprocessing import StandardScaler\n",
    "from pyspark.sql.types import StringType, IntegerType, LongType\n",
    "from pyspark.sql.functions import col\n",
    "\n",
    "pd.set_option('display.max_rows', 500)\n",
    "pd.set_option('display.max_columns', 500)\n",
    "pd.set_option('display.width', 1000)\n",
    "\n",
    "scaler = StandardScaler()"
   ]
  },
  {
   "cell_type": "code",
   "execution_count": 2,
   "metadata": {},
   "outputs": [],
   "source": [
    "# start spark session\n",
    "from pyspark.sql import SparkSession\n",
    "\n",
    "spark = SparkSession.builder.master(\"yarn\").appName(\"va8\").getOrCreate()"
   ]
  },
  {
   "cell_type": "code",
   "execution_count": null,
   "metadata": {},
   "outputs": [],
   "source": [
    "# open txt file\n",
    "path=\"working_file.txt\"\n",
    "df_total=spark.read \\\n",
    "  .option(\"header\", \"True\") \\\n",
    "  .option(\"escape\", \"\\\"\") \\\n",
    "  .option(\"delimiter\", \"|\") \\\n",
    "  .csv(path)"
   ]
  },
  {
   "cell_type": "code",
   "execution_count": null,
   "metadata": {},
   "outputs": [],
   "source": [
    "# simple check what values can we find in Column4 column\n",
    "\n",
    "# import numpy as np\n",
    "# testowane = df_total.select('Column4').groupBy('Column4').count()\n",
    "\n",
    "# testowane = testowane.withColumn('ratio', F.col('count')/testowane.groupBy().sum().collect()[0][0])   \n",
    "# testowane = testowane.withColumn('count',F.format_number('count',0)).toPandas()\n",
    "# testowane = np.round(testowane, decimals=2)\n",
    "# testowane"
   ]
  },
  {
   "cell_type": "code",
   "execution_count": 9,
   "metadata": {},
   "outputs": [],
   "source": [
    "# use only 10% of our data set\n",
    "df = df_total.sample(0.1, seed = 56)"
   ]
  },
  {
   "cell_type": "code",
   "execution_count": 11,
   "metadata": {},
   "outputs": [],
   "source": [
    "# remove dates that are older that 1901\n",
    "df = df.filter(F.col('Column1')>=19010000)"
   ]
  },
  {
   "cell_type": "code",
   "execution_count": 12,
   "metadata": {},
   "outputs": [],
   "source": [
    "# change format to date\n",
    "df = df.withColumn('Column1', F.to_date(F.col('Column1'), 'YYYYMMdd')) \\\n",
    "       .withColumn('Column2', F.to_date(F.col('Column2'), 'YYYYMMdd'))"
   ]
  },
  {
   "cell_type": "code",
   "execution_count": 13,
   "metadata": {},
   "outputs": [],
   "source": [
    "# work with formats: from Column1, Column2 extract only year; Column7&8 split into two separate columns\n",
    "df = df.withColumn(\"Column1_year\", df[\"Column1\"].cast(StringType())) \n",
    "df = df.withColumn('Column1_year', F.substring(df['Column1_year'],1,4))\n",
    "df = df.withColumn('Column1_year', df['Column1_year'].cast(IntegerType()))\n",
    "\n",
    "df = df.withColumn(\"Column2_year\", df[\"Column2\"].cast(StringType())) \n",
    "df = df.withColumn('Column2_year', F.substring(df['Column2_year'],1,4))\n",
    "df = df.withColumn('Column2_year', df['Column2_year'].cast(IntegerType()))\n",
    "\n",
    "df = df.withColumn(\"Column7&8\", F.split(\"Column7&8\", \" \")) \\\n",
    "       .withColumn(\"Column7\", F.col('Column7&8')[0]) \\\n",
    "       .withColumn('Column8', F.col('Column7&8')[1]) \\\n",
    "       .drop('Column7&8') \\\n",
    "       .fillna('None', subset=['Column4']) \\\n",
    "       .withColumnRenamed('Column1_year', 'label') "
   ]
  },
  {
   "cell_type": "code",
   "execution_count": 14,
   "metadata": {},
   "outputs": [],
   "source": [
    "# filter values that are not equall null\n",
    "df = df.filter(F.col('Column2_year').isNotNull())\n",
    "df = df.filter(F.col('Column7').isNotNull())\n",
    "df = df.filter(F.col('Column8').isNotNull())\n",
    "\n",
    "df = df.withColumn('Column7', F.when(F.col('Column7') == \"\",'Null').otherwise(F.col('Column7')))"
   ]
  },
  {
   "cell_type": "code",
   "execution_count": 15,
   "metadata": {},
   "outputs": [],
   "source": [
    "# use OneHotEncoder to convert categorical columns into vectors\n",
    "from pyspark.ml import Pipeline\n",
    "from pyspark.ml.feature import StringIndexer, OneHotEncoder, VectorAssembler, VectorIndexer\n",
    "from pyspark.ml.regression import RandomForestRegressor\n",
    "from pyspark.ml.evaluation import RegressionEvaluator\n",
    "\n",
    "list_of_cols = ['Column4','Column3', 'Column5', 'Column8', 'Column6', 'Column7']\n",
    "\n",
    "stringIndexer = [StringIndexer(inputCol=i, outputCol=i + \"_index\").fit(df) for i in list_of_cols]\n",
    "\n",
    "encoders = [OneHotEncoder(dropLast=False, inputCol=indexer.getOutputCol(), outputCol=\"job_vec_\"+indexer.getOutputCol()) for indexer in stringIndexer]\n",
    "\n",
    "list_of_encoders = [encoder.getOutputCol() for encoder in encoders]\n",
    "list_of_encoders.insert(0,\"Column2_year\")\n",
    "\n",
    "vector_assembler = VectorAssembler(inputCols=list_of_encoders, outputCol=\"features\")\n",
    "\n",
    "pipeline = Pipeline(stages = stringIndexer + encoders + [vector_assembler])\n",
    "model = pipeline.fit(df)\n",
    "df = model.transform(df)"
   ]
  },
  {
   "cell_type": "code",
   "execution_count": 17,
   "metadata": {},
   "outputs": [],
   "source": [
    "# initiate model Gradient Boosted Tree Regression\n",
    "\n",
    "#from pyspark import SparkContext\n",
    "#from pyspark.sql import SQLContext\n",
    "from pyspark.ml.regression import GBTRegressor\n",
    "\n",
    "va_df = df.select(['features','label'])\n",
    "(train, test) = va_df.randomSplit([0.8, 0.2], seed=123)\n",
    "\n",
    "gbtr = GBTRegressor(featuresCol='features', labelCol='label', maxIter=10)\n",
    "gbtr = gbtr.fit(train)"
   ]
  },
  {
   "cell_type": "code",
   "execution_count": null,
   "metadata": {},
   "outputs": [],
   "source": [
    "mdata = gbtr.transform(test)\n",
    "mdata.show(3)\n",
    " \n",
    "rmse=RegressionEvaluator(labelCol=\"label\", predictionCol=\"prediction\", metricName=\"rmse\")\n",
    "rmse=rmse.evaluate(mdata) \n",
    " \n",
    "mae=RegressionEvaluator(labelCol=\"label\", predictionCol=\"prediction\", metricName=\"mae\")\n",
    "mae=mae.evaluate(mdata) \n",
    " \n",
    "r2=RegressionEvaluator(labelCol=\"label\", predictionCol=\"prediction\", metricName=\"r2\")\n",
    "r2=r2.evaluate(mdata)\n",
    "\n",
    "print(\"RMSE: \", rmse)\n",
    "print(\"MAE: \", mae)\n",
    "print(\"R-squared: \", r2)"
   ]
  },
  {
   "cell_type": "code",
   "execution_count": 22,
   "metadata": {},
   "outputs": [],
   "source": [
    "# prepare data to visualize (how many records were predicted correctly)\n",
    "prediction = mdata.select('label','prediction')\n",
    "prediction = prediction.withColumn('prediction', F.round(F.col('prediction'),0))\n",
    "prediction = prediction.withColumn('check', F.when(F.col('label') == F.col('prediction'),1).otherwise(0))\n",
    "prediction = prediction.withColumn('difference', F.col('label') - F.col('prediction'))"
   ]
  },
  {
   "cell_type": "code",
   "execution_count": 23,
   "metadata": {},
   "outputs": [],
   "source": [
    "# add new column with labels\n",
    "prediction = prediction.withColumn('bucket', \n",
    "                                   F.when(F.col('difference')<-20,'-21 or more')\n",
    "                                   .when((F.col('difference')>-21) & (F.col('difference')<-10), '-11 to -20')\n",
    "                                   .when((F.col('difference')>-11) & (F.col('difference')<0), '-1 to -10')\n",
    "                                   .when(F.col('difference') == 0, '0')\n",
    "                                   .when((F.col('difference')>0) & (F.col('difference')<11), '1 to 10')\n",
    "                                   .when((F.col('difference')>10) & (F.col('difference')<21), '11 to 20')\n",
    "                                   .when(F.col('difference')>20,'21 or more')\n",
    "                                  )"
   ]
  },
  {
   "cell_type": "code",
   "execution_count": 24,
   "metadata": {},
   "outputs": [
    {
     "data": {
      "text/html": [
       "<div>\n",
       "<style scoped>\n",
       "    .dataframe tbody tr th:only-of-type {\n",
       "        vertical-align: middle;\n",
       "    }\n",
       "\n",
       "    .dataframe tbody tr th {\n",
       "        vertical-align: top;\n",
       "    }\n",
       "\n",
       "    .dataframe thead th {\n",
       "        text-align: right;\n",
       "    }\n",
       "</style>\n",
       "<table border=\"1\" class=\"dataframe\">\n",
       "  <thead>\n",
       "    <tr style=\"text-align: right;\">\n",
       "      <th></th>\n",
       "      <th>bucket</th>\n",
       "      <th>count</th>\n",
       "    </tr>\n",
       "  </thead>\n",
       "  <tbody>\n",
       "    <tr>\n",
       "      <th>3</th>\n",
       "      <td>-21 or more</td>\n",
       "      <td>0.11</td>\n",
       "    </tr>\n",
       "    <tr>\n",
       "      <th>1</th>\n",
       "      <td>-11 to -20</td>\n",
       "      <td>0.15</td>\n",
       "    </tr>\n",
       "    <tr>\n",
       "      <th>6</th>\n",
       "      <td>-1 to -10</td>\n",
       "      <td>0.24</td>\n",
       "    </tr>\n",
       "    <tr>\n",
       "      <th>0</th>\n",
       "      <td>0</td>\n",
       "      <td>0.02</td>\n",
       "    </tr>\n",
       "    <tr>\n",
       "      <th>4</th>\n",
       "      <td>1 to 10</td>\n",
       "      <td>0.21</td>\n",
       "    </tr>\n",
       "    <tr>\n",
       "      <th>5</th>\n",
       "      <td>11 to 20</td>\n",
       "      <td>0.14</td>\n",
       "    </tr>\n",
       "    <tr>\n",
       "      <th>2</th>\n",
       "      <td>21 or more</td>\n",
       "      <td>0.13</td>\n",
       "    </tr>\n",
       "  </tbody>\n",
       "</table>\n",
       "</div>"
      ],
      "text/plain": [
       "        bucket  count\n",
       "3  -21 or more   0.11\n",
       "1   -11 to -20   0.15\n",
       "6    -1 to -10   0.24\n",
       "0            0   0.02\n",
       "4      1 to 10   0.21\n",
       "5     11 to 20   0.14\n",
       "2   21 or more   0.13"
      ]
     },
     "execution_count": 24,
     "metadata": {},
     "output_type": "execute_result"
    }
   ],
   "source": [
    "# create table for chart\n",
    "final_view = prediction.select('bucket').groupBy('bucket').count() \n",
    "final_view = final_view.withColumn('count', F.col('count')/final_view.groupBy().sum().collect()[0][0])\n",
    "final_view = final_view.toPandas().reindex([3,1,6,0,4,5,2])\n",
    "final_view = np.round(final_view, decimals=2)\n",
    "final_view"
   ]
  },
  {
   "cell_type": "code",
   "execution_count": 62,
   "metadata": {},
   "outputs": [
    {
     "data": {
      "text/plain": [
       "<Figure size 12000x8000 with 0 Axes>"
      ]
     },
     "metadata": {},
     "output_type": "display_data"
    },
    {
     "data": {
      "image/png": "[encoded data removed]",
      "text/plain": [
       "<Figure size 720x432 with 1 Axes>"
      ]
     },
     "metadata": {
      "needs_background": "light"
     },
     "output_type": "display_data"
    }
   ],
   "source": [
    "# visualize the data\n",
    "import matplotlib\n",
    "import matplotlib.pyplot as plt\n",
    "import seaborn as sns\n",
    "\n",
    "matplotlib.pyplot.figure(dpi=2000) #improve the quality\n",
    "plt.figure(figsize=(10, 6))\n",
    "plt.title('Age delta (group)')\n",
    "splot=sns.barplot(x=\"bucket\", y=\"count\", color = 'tab:blue', data=final_view)\n",
    "splot.set(xlabel=None)  # remove the axis label\n",
    "plt.ylim([0, 0.3])\n",
    "for p in splot.patches:\n",
    "    splot.annotate(format(p.get_height(), '.2f'), \n",
    "                   (p.get_x() + p.get_width() / 2., p.get_height()), \n",
    "                   ha = 'center', va = 'center', \n",
    "                   xytext = (0, 9), \n",
    "                   textcoords = 'offset points')\n",
    "plt.ylabel(\"%\", size=14)\n",
    "\n",
    "def change_width(ax, new_value) :\n",
    "    for patch in ax.patches :\n",
    "        current_width = patch.get_width()\n",
    "        diff = current_width - new_value\n",
    "\n",
    "        # we change the bar width\n",
    "        patch.set_width(new_value)\n",
    "\n",
    "        # we recenter the bar\n",
    "        patch.set_x(patch.get_x() + diff * .5)\n",
    "\n",
    "change_width(splot, .5)"
   ]
  }
 ],
 "metadata": {
  "kernelspec": {
   "display_name": "Python 3 (ipykernel)",
   "language": "python",
   "name": "python3"
  },
  "language_info": {
   "codemirror_mode": {
    "name": "ipython",
    "version": 3
   },
   "file_extension": ".py",
   "mimetype": "text/x-python",
   "name": "python",
   "nbconvert_exporter": "python",
   "pygments_lexer": "ipython3",
   "version": "3.9.7"
  }
 },
 "nbformat": 4,
 "nbformat_minor": 4
}
