{
 "cells": [
  {
   "cell_type": "markdown",
   "metadata": {},
   "source": [
    "# T-student test"
   ]
  },
  {
   "cell_type": "code",
   "execution_count": 1,
   "metadata": {},
   "outputs": [],
   "source": [
    "import pandas as pd\n",
    "from scipy import stats"
   ]
  },
  {
   "cell_type": "code",
   "execution_count": 2,
   "metadata": {},
   "outputs": [],
   "source": [
    "dfs = pd.read_excel('v79 48h 1.xlsx', sheet_name='Arkusz1')"
   ]
  },
  {
   "cell_type": "code",
   "execution_count": 3,
   "metadata": {},
   "outputs": [],
   "source": [
    "df = dfs[dfs['C1'].notna()] #usuwanie pustych pozycji"
   ]
  },
  {
   "cell_type": "code",
   "execution_count": 5,
   "metadata": {},
   "outputs": [
    {
     "data": {
      "text/html": [
       "<div>\n",
       "<style scoped>\n",
       "    .dataframe tbody tr th:only-of-type {\n",
       "        vertical-align: middle;\n",
       "    }\n",
       "\n",
       "    .dataframe tbody tr th {\n",
       "        vertical-align: top;\n",
       "    }\n",
       "\n",
       "    .dataframe thead th {\n",
       "        text-align: right;\n",
       "    }\n",
       "</style>\n",
       "<table border=\"1\" class=\"dataframe\">\n",
       "  <thead>\n",
       "    <tr style=\"text-align: right;\">\n",
       "      <th></th>\n",
       "      <th>C1</th>\n",
       "      <th>C2</th>\n",
       "      <th>C3</th>\n",
       "      <th>C4</th>\n",
       "      <th>K</th>\n",
       "    </tr>\n",
       "  </thead>\n",
       "  <tbody>\n",
       "    <tr>\n",
       "      <th>count</th>\n",
       "      <td>45.000000</td>\n",
       "      <td>45.000000</td>\n",
       "      <td>45.000000</td>\n",
       "      <td>45.000000</td>\n",
       "      <td>45.000000</td>\n",
       "    </tr>\n",
       "    <tr>\n",
       "      <th>mean</th>\n",
       "      <td>0.047087</td>\n",
       "      <td>0.142362</td>\n",
       "      <td>0.265207</td>\n",
       "      <td>0.501488</td>\n",
       "      <td>1.337240</td>\n",
       "    </tr>\n",
       "    <tr>\n",
       "      <th>std</th>\n",
       "      <td>0.007820</td>\n",
       "      <td>0.028149</td>\n",
       "      <td>0.042421</td>\n",
       "      <td>0.052561</td>\n",
       "      <td>0.180019</td>\n",
       "    </tr>\n",
       "    <tr>\n",
       "      <th>min</th>\n",
       "      <td>0.037968</td>\n",
       "      <td>0.063803</td>\n",
       "      <td>0.193937</td>\n",
       "      <td>0.402572</td>\n",
       "      <td>0.919649</td>\n",
       "    </tr>\n",
       "    <tr>\n",
       "      <th>25%</th>\n",
       "      <td>0.040991</td>\n",
       "      <td>0.134446</td>\n",
       "      <td>0.232577</td>\n",
       "      <td>0.457189</td>\n",
       "      <td>1.274991</td>\n",
       "    </tr>\n",
       "    <tr>\n",
       "      <th>50%</th>\n",
       "      <td>0.043984</td>\n",
       "      <td>0.144685</td>\n",
       "      <td>0.260904</td>\n",
       "      <td>0.492869</td>\n",
       "      <td>1.386058</td>\n",
       "    </tr>\n",
       "    <tr>\n",
       "      <th>75%</th>\n",
       "      <td>0.052104</td>\n",
       "      <td>0.157378</td>\n",
       "      <td>0.292909</td>\n",
       "      <td>0.548192</td>\n",
       "      <td>1.435469</td>\n",
       "    </tr>\n",
       "    <tr>\n",
       "      <th>max</th>\n",
       "      <td>0.076428</td>\n",
       "      <td>0.195849</td>\n",
       "      <td>0.363323</td>\n",
       "      <td>0.596094</td>\n",
       "      <td>1.767295</td>\n",
       "    </tr>\n",
       "  </tbody>\n",
       "</table>\n",
       "</div>"
      ],
      "text/plain": [
       "              C1         C2         C3         C4          K\n",
       "count  45.000000  45.000000  45.000000  45.000000  45.000000\n",
       "mean    0.047087   0.142362   0.265207   0.501488   1.337240\n",
       "std     0.007820   0.028149   0.042421   0.052561   0.180019\n",
       "min     0.037968   0.063803   0.193937   0.402572   0.919649\n",
       "25%     0.040991   0.134446   0.232577   0.457189   1.274991\n",
       "50%     0.043984   0.144685   0.260904   0.492869   1.386058\n",
       "75%     0.052104   0.157378   0.292909   0.548192   1.435469\n",
       "max     0.076428   0.195849   0.363323   0.596094   1.767295"
      ]
     },
     "execution_count": 5,
     "metadata": {},
     "output_type": "execute_result"
    }
   ],
   "source": [
    "df.describe()"
   ]
  },
  {
   "cell_type": "code",
   "execution_count": 6,
   "metadata": {},
   "outputs": [
    {
     "data": {
      "text/plain": [
       "C1    float64\n",
       "C2    float64\n",
       "C3    float64\n",
       "C4    float64\n",
       "K     float64\n",
       "dtype: object"
      ]
     },
     "execution_count": 6,
     "metadata": {},
     "output_type": "execute_result"
    }
   ],
   "source": [
    "df.dtypes"
   ]
  },
  {
   "cell_type": "code",
   "execution_count": 8,
   "metadata": {},
   "outputs": [],
   "source": [
    "df0 = df[['C1','C2','C3','C4']]\n",
    "df1 = df['C1']\n",
    "df2 = df['C2']\n",
    "df3 = df['C3']\n",
    "df4 = df['C4']\n",
    "df5 = df['K']"
   ]
  },
  {
   "cell_type": "code",
   "execution_count": 9,
   "metadata": {},
   "outputs": [
    {
     "data": {
      "text/plain": [
       "Ttest_indResult(statistic=array([-48.03069238, -43.99114499, -38.88303784, -29.89507271]), pvalue=array([6.37712038e-65, 1.06963358e-61, 3.29407945e-57, 7.21532356e-48]))"
      ]
     },
     "execution_count": 9,
     "metadata": {},
     "output_type": "execute_result"
    }
   ],
   "source": [
    "# check p-values for each col\n",
    "stats.ttest_ind(df0, df5)"
   ]
  },
  {
   "cell_type": "code",
   "execution_count": 17,
   "metadata": {},
   "outputs": [
    {
     "name": "stdout",
     "output_type": "stream",
     "text": [
      "   Variable     N      Mean        SD        SE  95% Conf.  Interval\n",
      "0        C1  45.0  0.047087  0.007820  0.001166   0.044738  0.049437\n",
      "1         K  45.0  1.337240  0.180019  0.026836   1.283156  1.391324\n",
      "2  combined  90.0  0.692164  0.660947  0.069670   0.553731  0.830596\n",
      "          Independent t-test   results\n",
      "0     Difference (C1 - K) =    -1.2902\n",
      "1      Degrees of freedom =    88.0000\n",
      "2                       t =   -48.0307\n",
      "3   Two side test p value =     0.0000\n",
      "4  Difference < 0 p value =     0.0000\n",
      "5  Difference > 0 p value =     1.0000\n",
      "6               Cohen's d =   -10.1258\n",
      "7               Hedge's g =   -10.0392\n",
      "8           Glass's delta =  -164.9842\n",
      "9             Pearson's r =     0.9815\n",
      "\n",
      "\n",
      "\n",
      "   Variable     N      Mean        SD        SE  95% Conf.  Interval\n",
      "0        C2  45.0  0.142362  0.028149  0.004196   0.133905  0.150819\n",
      "1         K  45.0  1.337240  0.180019  0.026836   1.283156  1.391324\n",
      "2  combined  90.0  0.739801  0.614294  0.064752   0.611140  0.868463\n",
      "          Independent t-test  results\n",
      "0     Difference (C2 - K) =   -1.1949\n",
      "1      Degrees of freedom =   88.0000\n",
      "2                       t =  -43.9911\n",
      "3   Two side test p value =    0.0000\n",
      "4  Difference < 0 p value =    0.0000\n",
      "5  Difference > 0 p value =    1.0000\n",
      "6               Cohen's d =   -9.2741\n",
      "7               Hedge's g =   -9.1949\n",
      "8           Glass's delta =  -42.4488\n",
      "9             Pearson's r =    0.9780\n",
      "\n",
      "\n",
      "\n",
      "   Variable     N      Mean        SD        SE  95% Conf.  Interval\n",
      "0        C3  45.0  0.265207  0.042421  0.006324   0.252462  0.277951\n",
      "1         K  45.0  1.337240  0.180019  0.026836   1.283156  1.391324\n",
      "2  combined  90.0  0.801224  0.554485  0.058448   0.685089  0.917358\n",
      "          Independent t-test  results\n",
      "0     Difference (C3 - K) =   -1.0720\n",
      "1      Degrees of freedom =   88.0000\n",
      "2                       t =  -38.8830\n",
      "3   Two side test p value =    0.0000\n",
      "4  Difference < 0 p value =    0.0000\n",
      "5  Difference > 0 p value =    1.0000\n",
      "6               Cohen's d =   -8.1973\n",
      "7               Hedge's g =   -8.1272\n",
      "8           Glass's delta =  -25.2713\n",
      "9             Pearson's r =    0.9721\n",
      "\n",
      "\n",
      "\n",
      "   Variable     N      Mean        SD        SE  95% Conf.  Interval\n",
      "0        C4  45.0  0.501488  0.052561  0.007835   0.485697  0.517279\n",
      "1         K  45.0  1.337240  0.180019  0.026836   1.283156  1.391324\n",
      "2  combined  90.0  0.919364  0.440420  0.046424   0.827120  1.011608\n",
      "          Independent t-test  results\n",
      "0     Difference (C4 - K) =   -0.8358\n",
      "1      Degrees of freedom =   88.0000\n",
      "2                       t =  -29.8951\n",
      "3   Two side test p value =    0.0000\n",
      "4  Difference < 0 p value =    0.0000\n",
      "5  Difference > 0 p value =    1.0000\n",
      "6               Cohen's d =   -6.3024\n",
      "7               Hedge's g =   -6.2486\n",
      "8           Glass's delta =  -15.9005\n",
      "9             Pearson's r =    0.9541\n",
      "\n",
      "\n",
      "\n"
     ]
    }
   ],
   "source": [
    "# check basic statistics\n",
    "import researchpy as rp\n",
    "list_of_cols = [df1,df2,df3, df4]\n",
    "\n",
    "for i in list_of_cols:\n",
    "    summary, results = rp.ttest(i,df5)\n",
    "    print(f'{summary}\\n{results}\\n\\n\\n')"
   ]
  },
  {
   "cell_type": "markdown",
   "metadata": {},
   "source": [
    "#  Mann Whitneyu method"
   ]
  },
  {
   "cell_type": "code",
   "execution_count": 11,
   "metadata": {},
   "outputs": [
    {
     "name": "stdout",
     "output_type": "stream",
     "text": [
      "C1 :MannwhitneyuResult(statistic=0.0, pvalue=1.5868425551860282e-16)\n",
      "C2 :MannwhitneyuResult(statistic=0.0, pvalue=1.5868425551860282e-16)\n",
      "C3 :MannwhitneyuResult(statistic=0.0, pvalue=1.5868425551860282e-16)\n",
      "C4 :MannwhitneyuResult(statistic=0.0, pvalue=1.5868425551860282e-16)\n"
     ]
    }
   ],
   "source": [
    "# checking the mann whitneyu method\n",
    "from scipy.stats import mannwhitneyu\n",
    "\n",
    "# Carrying out the Wilcoxon–Mann–Whitney test\n",
    "list_of_cols = ['C1','C2','C3','C4']\n",
    "for i in list_of_cols:\n",
    "    results = mannwhitneyu(df[i], df5)\n",
    "    print(f'{i} :{results}')\n"
   ]
  },
  {
   "cell_type": "code",
   "execution_count": 12,
   "metadata": {},
   "outputs": [
    {
     "name": "stdout",
     "output_type": "stream",
     "text": [
      "0.0000000000000001586842555186028240636965381061941779168216951198186470683992865815525874495506286621\n"
     ]
    }
   ],
   "source": [
    "print(\"%.100f\" % round(1.5868425551860282e-16, 100))"
   ]
  },
  {
   "cell_type": "markdown",
   "metadata": {},
   "source": [
    "#  T-student for min & max"
   ]
  },
  {
   "cell_type": "code",
   "execution_count": 13,
   "metadata": {},
   "outputs": [],
   "source": [
    "min_c1 = df['C1'].min()\n",
    "max_c1 = df['C1'].max()\n",
    "min_c2 = df['C2'].min()\n",
    "max_c2 = df['C2'].max()\n",
    "min_c3 = df['C3'].min()\n",
    "max_c3 = df['C3'].max()\n",
    "min_k = df['K'].min()\n",
    "max_k = df['K'].max()"
   ]
  },
  {
   "cell_type": "code",
   "execution_count": 14,
   "metadata": {},
   "outputs": [],
   "source": [
    "data = [\n",
    "    (min_c1, min_c2, min_c3, min_k),\n",
    "    (max_c1, max_c2, max_c3, max_k)\n",
    "]"
   ]
  },
  {
   "cell_type": "code",
   "execution_count": 15,
   "metadata": {},
   "outputs": [],
   "source": [
    "df_nowe = pd.DataFrame(data, columns = ['C1', 'C2', 'C3','K'])"
   ]
  },
  {
   "cell_type": "code",
   "execution_count": 16,
   "metadata": {},
   "outputs": [
    {
     "data": {
      "text/html": [
       "<div>\n",
       "<style scoped>\n",
       "    .dataframe tbody tr th:only-of-type {\n",
       "        vertical-align: middle;\n",
       "    }\n",
       "\n",
       "    .dataframe tbody tr th {\n",
       "        vertical-align: top;\n",
       "    }\n",
       "\n",
       "    .dataframe thead th {\n",
       "        text-align: right;\n",
       "    }\n",
       "</style>\n",
       "<table border=\"1\" class=\"dataframe\">\n",
       "  <thead>\n",
       "    <tr style=\"text-align: right;\">\n",
       "      <th></th>\n",
       "      <th>C1</th>\n",
       "      <th>C2</th>\n",
       "      <th>C3</th>\n",
       "      <th>K</th>\n",
       "    </tr>\n",
       "  </thead>\n",
       "  <tbody>\n",
       "    <tr>\n",
       "      <th>0</th>\n",
       "      <td>0.037968</td>\n",
       "      <td>0.063803</td>\n",
       "      <td>0.193937</td>\n",
       "      <td>0.919649</td>\n",
       "    </tr>\n",
       "    <tr>\n",
       "      <th>1</th>\n",
       "      <td>0.076428</td>\n",
       "      <td>0.195849</td>\n",
       "      <td>0.363323</td>\n",
       "      <td>1.767295</td>\n",
       "    </tr>\n",
       "  </tbody>\n",
       "</table>\n",
       "</div>"
      ],
      "text/plain": [
       "         C1        C2        C3         K\n",
       "0  0.037968  0.063803  0.193937  0.919649\n",
       "1  0.076428  0.195849  0.363323  1.767295"
      ]
     },
     "execution_count": 16,
     "metadata": {},
     "output_type": "execute_result"
    }
   ],
   "source": [
    "df_nowe"
   ]
  },
  {
   "cell_type": "code",
   "execution_count": 17,
   "metadata": {},
   "outputs": [
    {
     "data": {
      "text/plain": [
       "Ttest_indResult(statistic=array([-3.03181397, -2.82944342, -2.46375928]), pvalue=array([0.09374437, 0.10550856, 0.13272156]))"
      ]
     },
     "execution_count": 17,
     "metadata": {},
     "output_type": "execute_result"
    }
   ],
   "source": [
    "stats.ttest_ind(df_nowe[['C1','C2','C3']], df_nowe['K'])"
   ]
  }
 ],
 "metadata": {
  "kernelspec": {
   "display_name": "Python 3",
   "language": "python",
   "name": "python3"
  },
  "language_info": {
   "codemirror_mode": {
    "name": "ipython",
    "version": 3
   },
   "file_extension": ".py",
   "mimetype": "text/x-python",
   "name": "python",
   "nbconvert_exporter": "python",
   "pygments_lexer": "ipython3",
   "version": "3.7.6"
  }
 },
 "nbformat": 4,
 "nbformat_minor": 4
}
